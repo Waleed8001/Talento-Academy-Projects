{
  "nbformat": 4,
  "nbformat_minor": 0,
  "metadata": {
    "colab": {
      "provenance": []
    },
    "kernelspec": {
      "name": "python3",
      "display_name": "Python 3"
    },
    "language_info": {
      "name": "python"
    }
  },
  "cells": [
    {
      "cell_type": "code",
      "execution_count": 1,
      "metadata": {
        "id": "3Mj6VlphreXi"
      },
      "outputs": [],
      "source": [
        "import requests\n",
        "import time\n",
        "import pandas as pd"
      ]
    },
    {
      "cell_type": "code",
      "source": [
        "# URLs is hidden because of data privacy.\n",
        "url_list = [url_studentdatabase, url_puchusawal, url_wordpress]"
      ],
      "metadata": {
        "id": "NtjkoXNBrm_l"
      },
      "execution_count": 17,
      "outputs": []
    },
    {
      "cell_type": "code",
      "source": [
        "# Fetch Data from urls\n",
        "def fetchUrlData(myurl, list_value):\n",
        "    data_1 = requests.get(url=myurl)\n",
        "\n",
        "    if data_1.status_code == 200:\n",
        "        return data_1.json().get(list_value, [])\n",
        "\n",
        "    else:\n",
        "        return []"
      ],
      "metadata": {
        "id": "FhnGIzHwroYz"
      },
      "execution_count": 3,
      "outputs": []
    },
    {
      "cell_type": "code",
      "source": [
        "# Creating Variables\n",
        "fetch_columns = [\"fullName\", \"what'sAppNo\", \"emailAddress\"]\n",
        "full_name = []\n",
        "contact_no = []\n",
        "email_address = []\n",
        "id = []\n",
        "\n",
        "fetch_columns_2 = [full_name, contact_no, email_address]\n",
        "all_data_dict = {}"
      ],
      "metadata": {
        "id": "TuU3Nye-rsz1"
      },
      "execution_count": 4,
      "outputs": []
    },
    {
      "cell_type": "code",
      "source": [
        "# Loop for taking data from urls\n",
        "for urls in url_list:\n",
        "    new_url = urls.split(\"/\")\n",
        "    list_value = new_url[-1]\n",
        "    all_data = fetchUrlData(urls, list_value)\n",
        "\n",
        "    for data in all_data:\n",
        "        if (fetch_columns[0] in data.keys()) and (fetch_columns[1] in data.keys()) and (fetch_columns[2] in data.keys()):\n",
        "            full_name.append(data[fetch_columns[0]])\n",
        "            contact_no.append(data[fetch_columns[1]])\n",
        "            email_address.append(data[fetch_columns[2]])"
      ],
      "metadata": {
        "id": "ZQXC9aLDrvs8"
      },
      "execution_count": 5,
      "outputs": []
    },
    {
      "cell_type": "code",
      "source": [
        "print(len(full_name))"
      ],
      "metadata": {
        "colab": {
          "base_uri": "https://localhost:8080/"
        },
        "id": "SS5LB1MXr6o2",
        "outputId": "aae06812-eb0d-4807-fa92-c678fdcd7784"
      },
      "execution_count": 6,
      "outputs": [
        {
          "output_type": "stream",
          "name": "stdout",
          "text": [
            "240\n"
          ]
        }
      ]
    },
    {
      "cell_type": "code",
      "source": [
        "for index, i in enumerate(fetch_columns):\n",
        "    all_data_dict[i] = fetch_columns_2[index]"
      ],
      "metadata": {
        "id": "z386bTalrysn"
      },
      "execution_count": 7,
      "outputs": []
    },
    {
      "cell_type": "code",
      "source": [
        "create_csv = pd.DataFrame(all_data_dict)"
      ],
      "metadata": {
        "id": "ibnDZKIBsEZ3"
      },
      "execution_count": 8,
      "outputs": []
    },
    {
      "cell_type": "code",
      "source": [
        "create_csv"
      ],
      "metadata": {
        "id": "oZMENsJSsIMp"
      },
      "execution_count": null,
      "outputs": []
    },
    {
      "cell_type": "code",
      "source": [
        "create_csv.to_csv(\"New_Student_Data.csv\")"
      ],
      "metadata": {
        "id": "he4yrOEjsMxh"
      },
      "execution_count": 10,
      "outputs": []
    },
    {
      "cell_type": "code",
      "source": [
        "student_data = pd.read_csv(\"New_Student_Data.csv\")\n",
        "student_data"
      ],
      "metadata": {
        "id": "RG7l2-g0scI-",
        "collapsed": true
      },
      "execution_count": null,
      "outputs": []
    },
    {
      "cell_type": "code",
      "source": [
        "student_data.columns"
      ],
      "metadata": {
        "colab": {
          "base_uri": "https://localhost:8080/"
        },
        "id": "Ot5PnUdbslHa",
        "outputId": "8fc2f22a-f8cb-46f7-d8ae-922fa2b29e68"
      },
      "execution_count": 12,
      "outputs": [
        {
          "output_type": "execute_result",
          "data": {
            "text/plain": [
              "Index(['Unnamed: 0', 'fullName', 'what'sAppNo', 'emailAddress'], dtype='object')"
            ]
          },
          "metadata": {},
          "execution_count": 12
        }
      ]
    },
    {
      "cell_type": "code",
      "source": [
        "student_data.drop(columns=[\"Unnamed: 0\"], inplace=True)"
      ],
      "metadata": {
        "id": "7seyEC0AtNxa",
        "collapsed": true
      },
      "execution_count": 13,
      "outputs": []
    },
    {
      "cell_type": "code",
      "source": [
        "student_data.drop_duplicates(subset=[\"fullName\", \"emailAddress\"], inplace=True)"
      ],
      "metadata": {
        "id": "Mqd0iE8XtZix"
      },
      "execution_count": 14,
      "outputs": []
    },
    {
      "cell_type": "code",
      "source": [
        "student_data"
      ],
      "metadata": {
        "id": "bLJ7_GYct4nL",
        "collapsed": true
      },
      "execution_count": null,
      "outputs": []
    },
    {
      "cell_type": "code",
      "source": [
        "student_data.to_csv(\"New_Data_of_Student.csv\")"
      ],
      "metadata": {
        "id": "K5Rbzggq67UU"
      },
      "execution_count": 16,
      "outputs": []
    }
  ]
}